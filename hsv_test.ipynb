{
 "cells": [
  {
   "cell_type": "code",
   "execution_count": 1,
   "metadata": {
    "collapsed": true
   },
   "outputs": [
    {
     "name": "stdout",
     "output_type": "stream",
     "text": [
      "(hMin = 0 , sMin = 0, vMin = 0), (hMax = 179 , sMax = 255, vMax = 255)\n",
      "(hMin = 0 , sMin = 0, vMin = 0), (hMax = 179 , sMax = 255, vMax = 227)\n",
      "(hMin = 0 , sMin = 0, vMin = 0), (hMax = 179 , sMax = 255, vMax = 160)\n",
      "(hMin = 0 , sMin = 0, vMin = 0), (hMax = 179 , sMax = 255, vMax = 0)\n",
      "(hMin = 0 , sMin = 0, vMin = 0), (hMax = 179 , sMax = 255, vMax = 12)\n",
      "(hMin = 0 , sMin = 0, vMin = 0), (hMax = 179 , sMax = 255, vMax = 36)\n",
      "(hMin = 0 , sMin = 0, vMin = 0), (hMax = 179 , sMax = 255, vMax = 81)\n",
      "(hMin = 0 , sMin = 0, vMin = 0), (hMax = 179 , sMax = 255, vMax = 135)\n",
      "(hMin = 0 , sMin = 0, vMin = 0), (hMax = 179 , sMax = 255, vMax = 204)\n",
      "(hMin = 0 , sMin = 0, vMin = 0), (hMax = 179 , sMax = 255, vMax = 252)\n",
      "(hMin = 0 , sMin = 0, vMin = 0), (hMax = 179 , sMax = 255, vMax = 255)\n"
     ]
    }
   ],
   "source": [
    "import cv2\n",
    "import sys\n",
    "import numpy as np\n",
    "\n",
    "def nothing(x):\n",
    "    pass\n",
    "\n",
    "# Load in image\n",
    "image = cv2.imread('testimages/cam1/consequtive/1.jpg')\n",
    "\n",
    "# Create a window\n",
    "cv2.namedWindow('image')\n",
    "\n",
    "# create trackbars for color change\n",
    "cv2.createTrackbar('HMin','image',0,179,nothing) # Hue is from 0-179 for Opencv\n",
    "cv2.createTrackbar('SMin','image',0,255,nothing)\n",
    "cv2.createTrackbar('VMin','image',0,255,nothing)\n",
    "cv2.createTrackbar('HMax','image',0,179,nothing)\n",
    "cv2.createTrackbar('SMax','image',0,255,nothing)\n",
    "cv2.createTrackbar('VMax','image',0,255,nothing)\n",
    "\n",
    "# Set default value for MAX HSV trackbars.\n",
    "cv2.setTrackbarPos('HMax', 'image', 179)\n",
    "cv2.setTrackbarPos('SMax', 'image', 255)\n",
    "cv2.setTrackbarPos('VMax', 'image', 255)\n",
    "\n",
    "# Initialize to check if HSV min/max value changes\n",
    "hMin = sMin = vMin = hMax = sMax = vMax = 0\n",
    "phMin = psMin = pvMin = phMax = psMax = pvMax = 0\n",
    "\n",
    "output = image\n",
    "wait_time = 33\n",
    "\n",
    "while(1):\n",
    "\n",
    "    # get current positions of all trackbars\n",
    "    hMin = cv2.getTrackbarPos('HMin','image')\n",
    "    sMin = cv2.getTrackbarPos('SMin','image')\n",
    "    vMin = cv2.getTrackbarPos('VMin','image')\n",
    "\n",
    "    hMax = cv2.getTrackbarPos('HMax','image')\n",
    "    sMax = cv2.getTrackbarPos('SMax','image')\n",
    "    vMax = cv2.getTrackbarPos('VMax','image')\n",
    "\n",
    "    # Set minimum and max HSV values to display\n",
    "    lower = np.array([hMin, sMin, vMin])\n",
    "    upper = np.array([hMax, sMax, vMax])\n",
    "\n",
    "    # Create HSV Image and threshold into a range.\n",
    "    hsv = cv2.cvtColor(image, cv2.COLOR_BGR2HSV)\n",
    "    mask = cv2.inRange(hsv, lower, upper)\n",
    "    output = cv2.bitwise_and(image,image, mask= mask)\n",
    "\n",
    "    # Print if there is a change in HSV value\n",
    "    if( (phMin != hMin) | (psMin != sMin) | (pvMin != vMin) | (phMax != hMax) | (psMax != sMax) | (pvMax != vMax) ):\n",
    "        print(\"(hMin = %d , sMin = %d, vMin = %d), (hMax = %d , sMax = %d, vMax = %d)\" % (hMin , sMin , vMin, hMax, sMax , vMax))\n",
    "        phMin = hMin\n",
    "        psMin = sMin\n",
    "        pvMin = vMin\n",
    "        phMax = hMax\n",
    "        psMax = sMax\n",
    "        pvMax = vMax\n",
    "\n",
    "    # Display output image\n",
    "    cv2.imshow('image',output)\n",
    "\n",
    "    # Wait longer to prevent freeze for videos.\n",
    "    if cv2.waitKey(wait_time) & 0xFF == ord('q'):\n",
    "        break\n",
    "\n",
    "cv2.destroyAllWindows()"
   ]
  },
  {
   "cell_type": "code",
   "execution_count": null,
   "outputs": [],
   "source": [],
   "metadata": {
    "collapsed": false,
    "pycharm": {
     "name": "#%%\n"
    }
   }
  }
 ],
 "metadata": {
  "kernelspec": {
   "display_name": "Python 3",
   "language": "python",
   "name": "python3"
  },
  "language_info": {
   "codemirror_mode": {
    "name": "ipython",
    "version": 2
   },
   "file_extension": ".py",
   "mimetype": "text/x-python",
   "name": "python",
   "nbconvert_exporter": "python",
   "pygments_lexer": "ipython2",
   "version": "2.7.6"
  }
 },
 "nbformat": 4,
 "nbformat_minor": 0
}